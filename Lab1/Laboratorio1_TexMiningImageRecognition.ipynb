{
 "cells": [
  {
   "cell_type": "markdown",
   "id": "a7d82ed2-ca27-4a71-8b3b-679e3dd9aafd",
   "metadata": {},
   "source": [
    "# Tex Mining & Image Recognition\n",
    "# Laboratorio # 1"
   ]
  },
  {
   "cell_type": "markdown",
   "id": "cfa6690c-a0bd-48fd-8769-e30164607c65",
   "metadata": {},
   "source": [
    "Instrucciones: A continuación verá una lista de ejercicios que debe completar para poder entregar\n",
    "el laboratorio #1. Para desarrollar su solución deberá utilizar un Notebook el cual contenga todos\n",
    "los ejercicios indicando cada uno de ellos explícitamente con sus resultados. Para la entrega deberá\n",
    "subir un link al repositorio de github el cual contiene su solución."
   ]
  },
  {
   "cell_type": "markdown",
   "id": "1a2194af-9df8-43a4-8465-7f0c7c261acd",
   "metadata": {},
   "source": [
    "__Problema 1:__\n",
    "Desarrolle una función la cual reciba dos parámetros, una imagen y un entero llamado color, la\n",
    "función debe devolver una imagen la cual tenga activos los canales de color según los siguientes\n",
    "puntos:"
   ]
  },
  {
   "cell_type": "markdown",
   "id": "9639d62f-e314-4c72-a453-8d12f6a0de92",
   "metadata": {},
   "source": [
    "- Si el parámetro color vale 1, la imagen debe mostrar activos únicamente el color azul.\n",
    "- Si el parámetro color vale 2, la imagen debe mostrar activos únicamente el color verde.\n",
    "- Si el parámetro color vale 3, la imagen debe mostrar activos únicamente el color rojo.\n",
    "- Si el parámetro color vale 10, la imagen debe mostrar activos únicamente los colores rojo y verde.\n",
    "- Si el parámetro color vale 20, la imagen debe mostrar activos únicamente los colores verde y azul.\n",
    "- Si el parámetro color vale 30, la imagen debe mostrar activos únicamente los colores azul y rojo."
   ]
  },
  {
   "cell_type": "markdown",
   "id": "023b3200-9e60-4a2a-9187-efd67637b217",
   "metadata": {},
   "source": [
    "### *Cargar Librerías*"
   ]
  },
  {
   "cell_type": "code",
   "execution_count": 3,
   "id": "6615d94b-5e79-4134-8887-9b40c4518885",
   "metadata": {},
   "outputs": [
    {
     "name": "stdout",
     "output_type": "stream",
     "text": [
      "Defaulting to user installation because normal site-packages is not writeable\n",
      "Requirement already satisfied: opencv-python in c:\\users\\nixon\\appdata\\roaming\\python\\python39\\site-packages (4.8.0.74)\n",
      "Requirement already satisfied: numpy>=1.19.3 in d:\\anaconda\\lib\\site-packages (from opencv-python) (1.21.5)\n",
      "Note: you may need to restart the kernel to use updated packages.\n"
     ]
    }
   ],
   "source": [
    "pip install opencv-python"
   ]
  },
  {
   "cell_type": "code",
   "execution_count": 33,
   "id": "3b7f9e93-ebcb-45ca-b632-1b5ebd906898",
   "metadata": {},
   "outputs": [],
   "source": []
  },
  {
   "cell_type": "code",
   "execution_count": 38,
   "id": "ce3922be-c2b2-4759-8e56-7a93cabcd2d2",
   "metadata": {},
   "outputs": [],
   "source": [
    "def color_imagen(ruta_imagen, color):\n",
    "    # Leer la imagen usando OpenCV\n",
    "    img = cv2.imread(ruta_imagen)\n",
    "    \n",
    "    # Verificar si la imagen se cargó correctamente\n",
    "    if img is None:\n",
    "        print(\"No se pudo cargar la imagen. Por favor, verifica la ruta.\")\n",
    "        return None\n",
    "\n",
    "    # Convertir la imagen a RGB ya que OpenCV la carga en BGR por defecto\n",
    "    img_rgb = cv2.cvtColor(img, cv2.COLOR_BGR2RGB)\n",
    "\n",
    "    # Inicializar una matriz de ceros del mismo tamaño que la imagen\n",
    "    zeros = np.zeros(img_rgb.shape[:2], dtype=\"uint8\")\n",
    "\n",
    "    # Crear una copia de la imagen en escala de grises\n",
    "    img_gray = cv2.cvtColor(img_rgb, cv2.COLOR_RGB2GRAY)\n",
    "\n",
    "    if color == 1:   # Canal Azul\n",
    "        img_modificada = cv2.merge([img_gray, zeros, zeros])\n",
    "    elif color == 2:  # Canal Verde\n",
    "        img_modificada = cv2.merge([zeros, img_gray, zeros])\n",
    "    elif color == 3:  # Canal Rojo\n",
    "        img_modificada = cv2.merge([zeros, zeros, img_gray])\n",
    "    elif color == 20:  # Canal Verde y Azul\n",
    "        img_modificada = cv2.merge([zeros, img_gray, img_gray])\n",
    "    else:\n",
    "        print(\"El valor de color no es válido. Debe ser 1 (azul), 2 (verde), 3 (rojo) o 20 (verde y azul).\")\n",
    "        return None\n",
    "\n",
    "    return img_modificada"
   ]
  },
  {
   "cell_type": "code",
   "execution_count": 39,
   "id": "efaead1b-32c0-4a18-aeb9-94b0ed2d3a6b",
   "metadata": {},
   "outputs": [
    {
     "name": "stdout",
     "output_type": "stream",
     "text": [
      "Error: No se pudo cargar la imagen desde D:\\Archivos Nixon\\BAKUP NIXON\\Maestría en Data Science\\3 Trimestre Tercero DS\\Tex Mining & Image Recognition\\LaboratoriosTexMining\\Laboratorio1TexMining\\Lab1\\bmw.jpg\n"
     ]
    }
   ],
   "source": [
    "# Ruta a la imagen\n",
    "img_path = r'D:\\Archivos Nixon\\BAKUP NIXON\\Maestría en Data Science\\3 Trimestre Tercero DS\\Tex Mining & Image Recognition\\LaboratoriosTexMining\\Laboratorio1TexMining\\Lab1\\bmw.jpg'\n",
    "\n",
    "# Leer la imagen usando OpenCV\n",
    "img = cv2.imread(img_path)\n",
    "\n",
    "# Verificar que la imagen se haya cargado correctamente\n",
    "if img is None:\n",
    "    print(f'Error: No se pudo cargar la imagen desde {img_path}')\n",
    "else:\n",
    "    # Convertir la imagen de BGR a RGB (Matplotlib espera imágenes RGB)\n",
    "    img_rgb = cv2.cvtColor(img, cv2.COLOR_BGR2RGB)\n",
    "\n",
    "    # Mostrar la imagen\n",
    "    plt.imshow(img_rgb)\n",
    "    plt.show()\n",
    "\n"
   ]
  },
  {
   "cell_type": "code",
   "execution_count": null,
   "id": "0fb6729e-685f-477d-9c7a-415a77641824",
   "metadata": {},
   "outputs": [],
   "source": []
  },
  {
   "cell_type": "code",
   "execution_count": null,
   "id": "c7b22df6-6541-4bfd-a993-a7a3cfaf0366",
   "metadata": {},
   "outputs": [],
   "source": []
  },
  {
   "cell_type": "code",
   "execution_count": null,
   "id": "12996103-d24d-42f0-a57c-afee46aebda4",
   "metadata": {},
   "outputs": [],
   "source": []
  },
  {
   "cell_type": "code",
   "execution_count": null,
   "id": "0d2b1e7e-bfa7-45b8-97f2-83c73a0fdaf2",
   "metadata": {},
   "outputs": [],
   "source": []
  },
  {
   "cell_type": "code",
   "execution_count": null,
   "id": "b504d154-cc41-4955-8c67-9591d48e0605",
   "metadata": {},
   "outputs": [],
   "source": []
  },
  {
   "cell_type": "code",
   "execution_count": null,
   "id": "c244d789-b95f-4e84-ac09-6eca31267fc8",
   "metadata": {},
   "outputs": [],
   "source": []
  }
 ],
 "metadata": {
  "kernelspec": {
   "display_name": "Python 3 (ipykernel)",
   "language": "python",
   "name": "python3"
  },
  "language_info": {
   "codemirror_mode": {
    "name": "ipython",
    "version": 3
   },
   "file_extension": ".py",
   "mimetype": "text/x-python",
   "name": "python",
   "nbconvert_exporter": "python",
   "pygments_lexer": "ipython3",
   "version": "3.9.13"
  }
 },
 "nbformat": 4,
 "nbformat_minor": 5
}
